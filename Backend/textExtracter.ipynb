{
 "cells": [
  {
   "cell_type": "code",
   "execution_count": 4,
   "metadata": {},
   "outputs": [
    {
     "name": "stdout",
     "output_type": "stream",
     "text": [
      "Defaulting to user installation because normal site-packages is not writeable\n",
      "Requirement already satisfied: pymupdf in c:\\users\\paart\\appdata\\local\\packages\\pythonsoftwarefoundation.python.3.12_qbz5n2kfra8p0\\localcache\\local-packages\\python312\\site-packages (1.24.7)\n",
      "Requirement already satisfied: PyMuPDFb==1.24.6 in c:\\users\\paart\\appdata\\local\\packages\\pythonsoftwarefoundation.python.3.12_qbz5n2kfra8p0\\localcache\\local-packages\\python312\\site-packages (from pymupdf) (1.24.6)\n",
      "Note: you may need to restart the kernel to use updated packages.\n"
     ]
    }
   ],
   "source": [
    "%pip install pymupdf\n",
    "\n",
    "import fitz\n",
    "import os"
   ]
  },
  {
   "cell_type": "code",
   "execution_count": 3,
   "metadata": {},
   "outputs": [],
   "source": [
    "def extract_text_from_pdf(pdf_path):\n",
    "    doc = fitz.open(pdf_path)\n",
    "    text = \"\"\n",
    "    for page_num in range(len(doc)):\n",
    "        page = doc.load_page(page_num)\n",
    "        text += page.get_text()\n",
    "    return text"
   ]
  },
  {
   "cell_type": "code",
   "execution_count": 2,
   "metadata": {},
   "outputs": [],
   "source": [
    "def bulk_extractor(input_folder, output_folder):\n",
    "    if not os.path.exists(output_folder):\n",
    "        os.makedirs(output_folder)\n",
    "    \n",
    "    for filename in os.listdir(input_folder):\n",
    "        if filename.endswith('.pdf'):\n",
    "            pdf_path = os.path.join(input_folder, filename)\n",
    "            text = extract_text_from_pdf(pdf_path)\n",
    "            output_path = os.path.join(output_folder, f\"{os.path.splitext(filename)[0]}.txt\")\n",
    "            with open(output_path, 'w', encoding='utf-8') as f:\n",
    "                f.write(text)            \n",
    "            print(f\"Text extracted and saved to {output_path}\")\n",
    "    "
   ]
  },
  {
   "cell_type": "code",
   "execution_count": 8,
   "metadata": {},
   "outputs": [
    {
     "name": "stdout",
     "output_type": "stream",
     "text": [
      "Text extracted and saved to ./Documents\\API-REF.txt\n",
      "Text extracted and saved to ./Documents\\biggestPDF.txt\n",
      "Text extracted and saved to ./Documents\\Debugging Guie.txt\n",
      "Text extracted and saved to ./Documents\\GS-Linux2.0.txt\n",
      "Text extracted and saved to ./Documents\\GS-Linuz.txt\n",
      "Text extracted and saved to ./Documents\\IntelQAT Virtualization AppNote.txt\n",
      "Text extracted and saved to ./Documents\\Performance Optimization Guide.txt\n",
      "Text extracted and saved to ./Documents\\Programmers Guide.txt\n",
      "Text extracted and saved to ./Documents\\RN-FreeBSD.txt\n",
      "Text extracted and saved to ./Documents\\RN-VMWARE.txt\n",
      "Text extracted and saved to ./Documents\\RN-Windows.txt\n",
      "Text extracted and saved to ./Documents\\RS-Linux2.0.txt\n",
      "Text extracted and saved to ./Documents\\RS-VMWARE2.0.txt\n",
      "Text extracted and saved to ./Documents\\RS-Windows2.0.txt\n"
     ]
    }
   ],
   "source": [
    "input_folder = \"./docs\"\n",
    "output_folder = \"./Documents\"\n",
    "bulk_extractor(input_folder, output_folder)"
   ]
  }
 ],
 "metadata": {
  "kernelspec": {
   "display_name": "Python 3",
   "language": "python",
   "name": "python3"
  },
  "language_info": {
   "codemirror_mode": {
    "name": "ipython",
    "version": 3
   },
   "file_extension": ".py",
   "mimetype": "text/x-python",
   "name": "python",
   "nbconvert_exporter": "python",
   "pygments_lexer": "ipython3",
   "version": "3.12.4"
  }
 },
 "nbformat": 4,
 "nbformat_minor": 2
}
